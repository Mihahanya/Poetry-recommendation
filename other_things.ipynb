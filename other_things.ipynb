{
 "cells": [
  {
   "cell_type": "code",
   "execution_count": null,
   "metadata": {},
   "outputs": [],
   "source": [
    "from flask import Flask, request, jsonify\n",
    "from flask_cors import CORS\n",
    "import pandas as pd\n",
    "from serv.poem_search import search_poems\n",
    "\n",
    "app = Flask(__name__)\n",
    "CORS(app)\n",
    "#CORS(app, resources={r\"/process_data\": {\"origins\": \"*\"}})\n",
    "\n",
    "@app.route('/poem_request', methods=['POST'])\n",
    "def process_data():\n",
    "    request_data = request.json\n",
    "    print(request_data)\n",
    "\n",
    "    result_data = search_poems(request_data['request_text'][:1000], request_data['top_n'], request_data['search_priority'])\n",
    "    \n",
    "    return jsonify(result_data)\n",
    "    \n",
    "\n",
    "@app.route(\"/\")\n",
    "def index():\n",
    "    return \"<h1>Hello!</h1>\"\n",
    "\n",
    "if __name__ == '__main__':\n",
    "    app.run(host='0.0.0.0', port=8080)\n",
    "    # from waitress import serve\n",
    "    # serve(app, host=\"0.0.0.0\", port=8080)\n"
   ]
  }
 ],
 "metadata": {
  "kernelspec": {
   "display_name": "Python 3",
   "language": "python",
   "name": "python3"
  },
  "language_info": {
   "codemirror_mode": {
    "name": "ipython",
    "version": 3
   },
   "file_extension": ".py",
   "mimetype": "text/x-python",
   "name": "python",
   "nbconvert_exporter": "python",
   "pygments_lexer": "ipython3",
   "version": "3.12.1"
  }
 },
 "nbformat": 4,
 "nbformat_minor": 2
}
