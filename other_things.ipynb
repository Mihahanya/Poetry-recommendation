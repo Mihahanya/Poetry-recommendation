{
 "cells": [
  {
   "cell_type": "code",
   "execution_count": 1,
   "metadata": {},
   "outputs": [
    {
     "name": "stderr",
     "output_type": "stream",
     "text": [
      "e:\\PROGRAMS\\conda\\envs\\torch_lm\\Lib\\site-packages\\tqdm\\auto.py:21: TqdmWarning: IProgress not found. Please update jupyter and ipywidgets. See https://ipywidgets.readthedocs.io/en/stable/user_install.html\n",
      "  from .autonotebook import tqdm as notebook_tqdm\n"
     ]
    },
    {
     "name": "stdout",
     "output_type": "stream",
     "text": [
      "Using device: cuda\n",
      " * Serving Flask app '__main__'\n",
      " * Debug mode: off\n"
     ]
    },
    {
     "name": "stderr",
     "output_type": "stream",
     "text": [
      "WARNING: This is a development server. Do not use it in a production deployment. Use a production WSGI server instead.\n",
      " * Running on all addresses (0.0.0.0)\n",
      " * Running on http://127.0.0.1:8080\n",
      " * Running on http://192.168.1.110:8080\n",
      "Press CTRL+C to quit\n",
      "127.0.0.1 - - [08/Feb/2024 19:02:06] \"OPTIONS /poem_request HTTP/1.1\" 200 -\n"
     ]
    },
    {
     "name": "stdout",
     "output_type": "stream",
     "text": [
      "{'request_text': 'ДОР', 'top_n': 33, 'search_priority': 0.7700000000000001}\n"
     ]
    },
    {
     "name": "stderr",
     "output_type": "stream",
     "text": [
      "127.0.0.1 - - [08/Feb/2024 19:02:18] \"POST /poem_request HTTP/1.1\" 200 -\n",
      "127.0.0.1 - - [08/Feb/2024 19:02:24] \"OPTIONS /poem_request HTTP/1.1\" 200 -\n",
      "127.0.0.1 - - [08/Feb/2024 19:02:25] \"OPTIONS /poem_request HTTP/1.1\" 200 -\n"
     ]
    },
    {
     "name": "stdout",
     "output_type": "stream",
     "text": [
      "{'request_text': 'ДОР', 'top_n': 33, 'search_priority': 0.7700000000000001}\n"
     ]
    },
    {
     "name": "stderr",
     "output_type": "stream",
     "text": [
      "127.0.0.1 - - [08/Feb/2024 19:02:25] \"OPTIONS /poem_request HTTP/1.1\" 200 -\n"
     ]
    },
    {
     "name": "stdout",
     "output_type": "stream",
     "text": [
      "{'request_text': 'ДОР', 'top_n': 33, 'search_priority': 0.7700000000000001}\n"
     ]
    },
    {
     "name": "stderr",
     "output_type": "stream",
     "text": [
      "127.0.0.1 - - [08/Feb/2024 19:02:25] \"OPTIONS /poem_request HTTP/1.1\" 200 -\n"
     ]
    },
    {
     "name": "stdout",
     "output_type": "stream",
     "text": [
      "{'request_text': 'ДОР', 'top_n': 33, 'search_priority': 0.7700000000000001}\n",
      "{'request_text': 'ДОР', 'top_n': 33, 'search_priority': 0.7700000000000001}\n"
     ]
    },
    {
     "name": "stderr",
     "output_type": "stream",
     "text": [
      "127.0.0.1 - - [08/Feb/2024 19:02:25] \"OPTIONS /poem_request HTTP/1.1\" 200 -\n"
     ]
    },
    {
     "name": "stdout",
     "output_type": "stream",
     "text": [
      "{'request_text': 'ДОР', 'top_n': 33, 'search_priority': 0.7700000000000001}\n"
     ]
    },
    {
     "name": "stderr",
     "output_type": "stream",
     "text": [
      "127.0.0.1 - - [08/Feb/2024 19:03:00] \"POST /poem_request HTTP/1.1\" 200 -\n",
      "127.0.0.1 - - [08/Feb/2024 19:03:05] \"POST /poem_request HTTP/1.1\" 200 -\n",
      "127.0.0.1 - - [08/Feb/2024 19:03:07] \"POST /poem_request HTTP/1.1\" 200 -\n",
      "127.0.0.1 - - [08/Feb/2024 19:03:07] \"POST /poem_request HTTP/1.1\" 200 -\n",
      "127.0.0.1 - - [08/Feb/2024 19:03:07] \"POST /poem_request HTTP/1.1\" 200 -\n",
      "127.0.0.1 - - [08/Feb/2024 19:05:39] \"OPTIONS /poem_request HTTP/1.1\" 200 -\n"
     ]
    },
    {
     "name": "stdout",
     "output_type": "stream",
     "text": [
      "{'request_text': 'бебебе', 'top_n': 33, 'search_priority': 0.7700000000000001}\n"
     ]
    },
    {
     "name": "stderr",
     "output_type": "stream",
     "text": [
      "127.0.0.1 - - [08/Feb/2024 19:05:43] \"POST /poem_request HTTP/1.1\" 200 -\n",
      "127.0.0.1 - - [08/Feb/2024 19:05:49] \"OPTIONS /poem_request HTTP/1.1\" 200 -\n"
     ]
    },
    {
     "name": "stdout",
     "output_type": "stream",
     "text": [
      "{'request_text': 'бебебебубубу', 'top_n': 33, 'search_priority': 0.7700000000000001}\n"
     ]
    },
    {
     "name": "stderr",
     "output_type": "stream",
     "text": [
      "127.0.0.1 - - [08/Feb/2024 19:05:53] \"POST /poem_request HTTP/1.1\" 200 -\n",
      "127.0.0.1 - - [08/Feb/2024 19:06:04] \"OPTIONS /poem_request HTTP/1.1\" 200 -\n"
     ]
    },
    {
     "name": "stdout",
     "output_type": "stream",
     "text": [
      "{'request_text': 'бебебебубубу татата тытыты', 'top_n': 33, 'search_priority': 0.7700000000000001}\n"
     ]
    },
    {
     "name": "stderr",
     "output_type": "stream",
     "text": [
      "127.0.0.1 - - [08/Feb/2024 19:06:08] \"POST /poem_request HTTP/1.1\" 200 -\n",
      "127.0.0.1 - - [08/Feb/2024 19:29:40] \"OPTIONS /poem_request HTTP/1.1\" 200 -\n"
     ]
    },
    {
     "name": "stdout",
     "output_type": "stream",
     "text": [
      "{'request_text': 'ыв', 'top_n': 33, 'search_priority': 0.7700000000000001}\n"
     ]
    },
    {
     "name": "stderr",
     "output_type": "stream",
     "text": [
      "127.0.0.1 - - [08/Feb/2024 19:29:43] \"POST /poem_request HTTP/1.1\" 200 -\n",
      "127.0.0.1 - - [08/Feb/2024 19:30:15] \"OPTIONS /poem_request HTTP/1.1\" 200 -\n"
     ]
    },
    {
     "name": "stdout",
     "output_type": "stream",
     "text": [
      "{'request_text': 'папа хочет барби па па хочет бар у бля', 'top_n': 33, 'search_priority': 0.7700000000000001}\n"
     ]
    },
    {
     "name": "stderr",
     "output_type": "stream",
     "text": [
      "127.0.0.1 - - [08/Feb/2024 19:30:20] \"POST /poem_request HTTP/1.1\" 200 -\n",
      "127.0.0.1 - - [08/Feb/2024 19:31:43] \"OPTIONS /poem_request HTTP/1.1\" 200 -\n"
     ]
    },
    {
     "name": "stdout",
     "output_type": "stream",
     "text": [
      "{'request_text': 'волк с уолл стрит', 'top_n': 33, 'search_priority': 0.41900000000000004}\n"
     ]
    },
    {
     "name": "stderr",
     "output_type": "stream",
     "text": [
      "127.0.0.1 - - [08/Feb/2024 19:31:47] \"POST /poem_request HTTP/1.1\" 200 -\n",
      "127.0.0.1 - - [08/Feb/2024 20:14:09] \"OPTIONS /poem_request HTTP/1.1\" 200 -\n"
     ]
    },
    {
     "name": "stdout",
     "output_type": "stream",
     "text": [
      "{'request_text': 'Бебеб', 'top_n': 33, 'search_priority': 0.7700000000000001}\n"
     ]
    },
    {
     "name": "stderr",
     "output_type": "stream",
     "text": [
      "127.0.0.1 - - [08/Feb/2024 20:14:12] \"POST /poem_request HTTP/1.1\" 200 -\n"
     ]
    }
   ],
   "source": [
    "from flask import Flask, request, jsonify\n",
    "from flask_cors import CORS\n",
    "import pandas as pd\n",
    "from serv.poem_search import search_poems\n",
    "\n",
    "app = Flask(__name__)\n",
    "CORS(app)\n",
    "#CORS(app, resources={r\"/process_data\": {\"origins\": \"*\"}})\n",
    "\n",
    "@app.route('/poem_request', methods=['POST'])\n",
    "def process_data():\n",
    "    request_data = request.json\n",
    "    print(request_data)\n",
    "\n",
    "    result_data = search_poems(request_data['request_text'][:1000], request_data['top_n'], request_data['search_priority'])\n",
    "    \n",
    "    return jsonify(result_data)\n",
    "    \n",
    "\n",
    "@app.route(\"/\")\n",
    "def index():\n",
    "    return \"<h1>Hello!</h1>\"\n",
    "\n",
    "if __name__ == '__main__':\n",
    "    app.run(host='0.0.0.0', port=8080)\n",
    "    # from waitress import serve\n",
    "    # serve(app, host=\"0.0.0.0\", port=8080)\n"
   ]
  }
 ],
 "metadata": {
  "kernelspec": {
   "display_name": "Python 3",
   "language": "python",
   "name": "python3"
  },
  "language_info": {
   "codemirror_mode": {
    "name": "ipython",
    "version": 3
   },
   "file_extension": ".py",
   "mimetype": "text/x-python",
   "name": "python",
   "nbconvert_exporter": "python",
   "pygments_lexer": "ipython3",
   "version": "3.12.1"
  }
 },
 "nbformat": 4,
 "nbformat_minor": 2
}
