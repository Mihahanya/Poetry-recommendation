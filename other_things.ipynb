{
 "cells": [
  {
   "cell_type": "code",
   "execution_count": 1,
   "metadata": {},
   "outputs": [
    {
     "name": "stderr",
     "output_type": "stream",
     "text": [
      "e:\\PROGRAMS\\conda\\envs\\torch_lm\\Lib\\site-packages\\tqdm\\auto.py:21: TqdmWarning: IProgress not found. Please update jupyter and ipywidgets. See https://ipywidgets.readthedocs.io/en/stable/user_install.html\n",
      "  from .autonotebook import tqdm as notebook_tqdm\n"
     ]
    },
    {
     "name": "stdout",
     "output_type": "stream",
     "text": [
      "Using device: cuda\n",
      " * Serving Flask app '__main__'\n",
      " * Debug mode: off\n"
     ]
    },
    {
     "name": "stderr",
     "output_type": "stream",
     "text": [
      "WARNING: This is a development server. Do not use it in a production deployment. Use a production WSGI server instead.\n",
      " * Running on all addresses (0.0.0.0)\n",
      " * Running on http://127.0.0.1:8080\n",
      " * Running on http://192.168.1.110:8080\n",
      "Press CTRL+C to quit\n",
      "127.0.0.1 - - [11/Feb/2024 17:14:25] \"OPTIONS /poem_request HTTP/1.1\" 200 -\n"
     ]
    },
    {
     "name": "stdout",
     "output_type": "stream",
     "text": [
      "{'request_text': 'поэт и поэзия', 'top_n': 33, 'search_priority': 0.9500000000000001}\n"
     ]
    },
    {
     "name": "stderr",
     "output_type": "stream",
     "text": [
      "127.0.0.1 - - [11/Feb/2024 17:14:40] \"POST /poem_request HTTP/1.1\" 200 -\n",
      "127.0.0.1 - - [11/Feb/2024 17:16:00] \"OPTIONS /poem_request HTTP/1.1\" 200 -\n"
     ]
    },
    {
     "name": "stdout",
     "output_type": "stream",
     "text": [
      "{'request_text': 'поэт и поэзия, Пастернак', 'top_n': 33, 'search_priority': 0.9500000000000001}\n"
     ]
    },
    {
     "name": "stderr",
     "output_type": "stream",
     "text": [
      "127.0.0.1 - - [11/Feb/2024 17:16:06] \"POST /poem_request HTTP/1.1\" 200 -\n",
      "127.0.0.1 - - [11/Feb/2024 17:19:32] \"OPTIONS /poem_request HTTP/1.1\" 200 -\n"
     ]
    },
    {
     "name": "stdout",
     "output_type": "stream",
     "text": [
      "{'request_text': 'поэт и поэзия', 'top_n': 33, 'search_priority': 0.7700000000000001}\n"
     ]
    },
    {
     "name": "stderr",
     "output_type": "stream",
     "text": [
      "127.0.0.1 - - [11/Feb/2024 17:19:38] \"POST /poem_request HTTP/1.1\" 200 -\n",
      "127.0.0.1 - - [11/Feb/2024 17:19:48] \"OPTIONS /poem_request HTTP/1.1\" 200 -\n"
     ]
    },
    {
     "name": "stdout",
     "output_type": "stream",
     "text": [
      "{'request_text': 'поэт и поэзия', 'top_n': 33, 'search_priority': 0.6260000000000001}\n"
     ]
    },
    {
     "name": "stderr",
     "output_type": "stream",
     "text": [
      "127.0.0.1 - - [11/Feb/2024 17:19:52] \"POST /poem_request HTTP/1.1\" 200 -\n",
      "127.0.0.1 - - [11/Feb/2024 17:20:03] \"OPTIONS /poem_request HTTP/1.1\" 200 -\n"
     ]
    },
    {
     "name": "stdout",
     "output_type": "stream",
     "text": [
      "{'request_text': 'поэт и поэзия, Пастернак', 'top_n': 33, 'search_priority': 0.31100000000000005}\n"
     ]
    },
    {
     "name": "stderr",
     "output_type": "stream",
     "text": [
      "127.0.0.1 - - [11/Feb/2024 17:20:07] \"POST /poem_request HTTP/1.1\" 200 -\n",
      "127.0.0.1 - - [11/Feb/2024 20:18:59] \"OPTIONS /poem_request HTTP/1.1\" 200 -\n"
     ]
    },
    {
     "name": "stdout",
     "output_type": "stream",
     "text": [
      "{'request_text': 'снова я напиваюсь снова говорю пока, небольшой объем', 'top_n': 33, 'search_priority': 0.7700000000000001}\n"
     ]
    },
    {
     "name": "stderr",
     "output_type": "stream",
     "text": [
      "127.0.0.1 - - [11/Feb/2024 20:19:04] \"POST /poem_request HTTP/1.1\" 200 -\n",
      "127.0.0.1 - - [11/Feb/2024 20:20:46] \"OPTIONS /poem_request HTTP/1.1\" 200 -\n"
     ]
    },
    {
     "name": "stdout",
     "output_type": "stream",
     "text": [
      "{'request_text': 'тонкие переживания самые необычные ощущения, небольшой объем', 'top_n': 33, 'search_priority': 0.7700000000000001}\n"
     ]
    },
    {
     "name": "stderr",
     "output_type": "stream",
     "text": [
      "127.0.0.1 - - [11/Feb/2024 20:20:50] \"POST /poem_request HTTP/1.1\" 200 -\n",
      "127.0.0.1 - - [11/Feb/2024 20:34:02] \"OPTIONS /poem_request HTTP/1.1\" 200 -\n"
     ]
    },
    {
     "name": "stdout",
     "output_type": "stream",
     "text": [
      "{'request_text': 'афжыдвлаофжывдало ы', 'top_n': 33, 'search_priority': 0.7700000000000001}\n"
     ]
    },
    {
     "name": "stderr",
     "output_type": "stream",
     "text": [
      "127.0.0.1 - - [11/Feb/2024 20:34:06] \"POST /poem_request HTTP/1.1\" 200 -\n",
      "127.0.0.1 - - [11/Feb/2024 20:50:10] \"OPTIONS /poem_request HTTP/1.1\" 200 -\n"
     ]
    },
    {
     "name": "stdout",
     "output_type": "stream",
     "text": [
      "{'request_text': 'одиночество, Марина Цветаева', 'top_n': 33, 'search_priority': 0.7700000000000001}\n"
     ]
    },
    {
     "name": "stderr",
     "output_type": "stream",
     "text": [
      "127.0.0.1 - - [11/Feb/2024 20:50:14] \"POST /poem_request HTTP/1.1\" 200 -\n",
      "127.0.0.1 - - [11/Feb/2024 20:50:29] \"OPTIONS /poem_request HTTP/1.1\" 200 -\n"
     ]
    },
    {
     "name": "stdout",
     "output_type": "stream",
     "text": [
      "{'request_text': 'одиночество, Марина Цветаева', 'top_n': 33, 'search_priority': 0.347}\n"
     ]
    },
    {
     "name": "stderr",
     "output_type": "stream",
     "text": [
      "127.0.0.1 - - [11/Feb/2024 20:50:33] \"POST /poem_request HTTP/1.1\" 200 -\n"
     ]
    }
   ],
   "source": [
    "from flask import Flask, request, jsonify\n",
    "from flask_cors import CORS\n",
    "import pandas as pd\n",
    "from serv.poem_search import search_poems\n",
    "\n",
    "app = Flask(__name__)\n",
    "CORS(app)\n",
    "#CORS(app, resources={r\"/process_data\": {\"origins\": \"*\"}})\n",
    "\n",
    "@app.route('/poem_request', methods=['POST'])\n",
    "def process_data():\n",
    "    request_data = request.json\n",
    "    print(request_data)\n",
    "\n",
    "    result_data = search_poems(request_data['request_text'][:1000], request_data['top_n'], request_data['search_priority'])\n",
    "    \n",
    "    return jsonify(result_data)\n",
    "    \n",
    "\n",
    "@app.route(\"/\")\n",
    "def index():\n",
    "    return \"<h1>Hello!</h1>\"\n",
    "\n",
    "if __name__ == '__main__':\n",
    "    app.run(host='0.0.0.0', port=8080)\n",
    "    # from waitress import serve\n",
    "    # serve(app, host=\"0.0.0.0\", port=8080)\n"
   ]
  }
 ],
 "metadata": {
  "kernelspec": {
   "display_name": "Python 3",
   "language": "python",
   "name": "python3"
  },
  "language_info": {
   "codemirror_mode": {
    "name": "ipython",
    "version": 3
   },
   "file_extension": ".py",
   "mimetype": "text/x-python",
   "name": "python",
   "nbconvert_exporter": "python",
   "pygments_lexer": "ipython3",
   "version": "3.12.1"
  }
 },
 "nbformat": 4,
 "nbformat_minor": 2
}
